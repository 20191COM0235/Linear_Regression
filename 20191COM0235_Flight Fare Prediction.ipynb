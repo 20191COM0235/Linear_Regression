{
  "nbformat": 4,
  "nbformat_minor": 0,
  "metadata": {
    "colab": {
      "name": "20191COM0235_nasscom.ipynb",
      "provenance": [],
      "collapsed_sections": []
    },
    "kernelspec": {
      "name": "python3",
      "display_name": "Python 3"
    },
    "language_info": {
      "name": "python"
    },
    "accelerator": "GPU"
  },
  "cells": [
    {
      "cell_type": "markdown",
      "metadata": {
        "id": "SpTb1jSa6Syq"
      },
      "source": [
        "**Simple Linear Regression using (OLS) Ordinary Least Squares method. Develop a regression model to predict the Fare based on Distance travelled**"
      ]
    },
    {
      "cell_type": "markdown",
      "metadata": {
        "id": "7lixfv8I6d9m"
      },
      "source": [
        "\n",
        "\n",
        "---\n",
        "\n"
      ]
    },
    {
      "cell_type": "markdown",
      "metadata": {
        "id": "LBgkuXCc44nt"
      },
      "source": [
        "# 1) Importing necessary modules."
      ]
    },
    {
      "cell_type": "code",
      "metadata": {
        "colab": {
          "base_uri": "https://localhost:8080/"
        },
        "id": "hhFfeDffKlK4",
        "outputId": "2aed2dfa-e3c0-48c6-d1fb-3df55de6059c"
      },
      "source": [
        "from google.colab import drive\n",
        "drive.mount('/content/drive')"
      ],
      "execution_count": 1,
      "outputs": [
        {
          "output_type": "stream",
          "name": "stdout",
          "text": [
            "Mounted at /content/drive\n"
          ]
        }
      ]
    },
    {
      "cell_type": "code",
      "metadata": {
        "colab": {
          "base_uri": "https://localhost:8080/"
        },
        "id": "zwq09CNEkeoo",
        "outputId": "0fd30050-6872-442b-af74-5fb98aefb4dc"
      },
      "source": [
        "import pandas as pd\n",
        "import numpy as np\n",
        "\n",
        "import matplotlib.pyplot as plt\n",
        "from matplotlib import figure\n",
        "import seaborn as sns\n",
        "\n",
        "import statsmodels.api as sm\n",
        "from sklearn.model_selection import train_test_split\n",
        "from sklearn.metrics import r2_score, mean_squared_error\n",
        "from scipy.stats import zscore\n",
        "\n",
        "%matplotlib inline"
      ],
      "execution_count": 4,
      "outputs": [
        {
          "output_type": "stream",
          "name": "stderr",
          "text": [
            "/usr/local/lib/python3.7/dist-packages/statsmodels/tools/_testing.py:19: FutureWarning: pandas.util.testing is deprecated. Use the functions in the public API at pandas.testing instead.\n",
            "  import pandas.util.testing as tm\n"
          ]
        }
      ]
    },
    {
      "cell_type": "markdown",
      "metadata": {
        "id": "KQBhJRsk6KiR"
      },
      "source": [
        "# 2) Importing Dataset (Flight_fare.csv) and understanding the data"
      ]
    },
    {
      "cell_type": "code",
      "metadata": {
        "colab": {
          "base_uri": "https://localhost:8080/",
          "height": 204
        },
        "id": "V1WvhyCj5L8h",
        "outputId": "9f4fa908-7bc3-4631-f7e1-40498f458c84"
      },
      "source": [
        "import pandas as pd\n",
        "flight = pd.read_csv(\"/content/drive/MyDrive/Flight_fare.csv\")   #importing or reading the dataset and storing it as flight\n",
        "flight.head()   # printing first 5 rows"
      ],
      "execution_count": 5,
      "outputs": [
        {
          "output_type": "execute_result",
          "data": {
            "text/html": [
              "<div>\n",
              "<style scoped>\n",
              "    .dataframe tbody tr th:only-of-type {\n",
              "        vertical-align: middle;\n",
              "    }\n",
              "\n",
              "    .dataframe tbody tr th {\n",
              "        vertical-align: top;\n",
              "    }\n",
              "\n",
              "    .dataframe thead th {\n",
              "        text-align: right;\n",
              "    }\n",
              "</style>\n",
              "<table border=\"1\" class=\"dataframe\">\n",
              "  <thead>\n",
              "    <tr style=\"text-align: right;\">\n",
              "      <th></th>\n",
              "      <th>Sl. No</th>\n",
              "      <th>Source</th>\n",
              "      <th>Destination</th>\n",
              "      <th>AverageFare</th>\n",
              "      <th>Distance</th>\n",
              "      <th>AverageWeeklyPassenger</th>\n",
              "      <th>MarketLeadingAirline</th>\n",
              "      <th>MarketShareLeadingAirline</th>\n",
              "      <th>AverageFareLeadingAirline</th>\n",
              "      <th>LowPriceAirline</th>\n",
              "      <th>MarketShareLowestPrice</th>\n",
              "      <th>LowestPrice</th>\n",
              "      <th>PredictedFare</th>\n",
              "    </tr>\n",
              "  </thead>\n",
              "  <tbody>\n",
              "    <tr>\n",
              "      <th>0</th>\n",
              "      <td>0</td>\n",
              "      <td>AK</td>\n",
              "      <td>ATL</td>\n",
              "      <td>114.47</td>\n",
              "      <td>528.0</td>\n",
              "      <td>424.56</td>\n",
              "      <td>FL</td>\n",
              "      <td>70.19</td>\n",
              "      <td>111.03</td>\n",
              "      <td>FL</td>\n",
              "      <td>70.19</td>\n",
              "      <td>111.03</td>\n",
              "      <td>121.753611</td>\n",
              "    </tr>\n",
              "    <tr>\n",
              "      <th>1</th>\n",
              "      <td>1</td>\n",
              "      <td>CAK</td>\n",
              "      <td>MCO</td>\n",
              "      <td>122.47</td>\n",
              "      <td>860.0</td>\n",
              "      <td>276.84</td>\n",
              "      <td>FL</td>\n",
              "      <td>75.10</td>\n",
              "      <td>123.09</td>\n",
              "      <td>DL</td>\n",
              "      <td>17.23</td>\n",
              "      <td>118.94</td>\n",
              "      <td>172.505965</td>\n",
              "    </tr>\n",
              "    <tr>\n",
              "      <th>2</th>\n",
              "      <td>2</td>\n",
              "      <td>ALB</td>\n",
              "      <td>ATL</td>\n",
              "      <td>214.42</td>\n",
              "      <td>852.0</td>\n",
              "      <td>215.76</td>\n",
              "      <td>DL</td>\n",
              "      <td>78.89</td>\n",
              "      <td>223.98</td>\n",
              "      <td>CO</td>\n",
              "      <td>2.77</td>\n",
              "      <td>167.12</td>\n",
              "      <td>182.803605</td>\n",
              "    </tr>\n",
              "    <tr>\n",
              "      <th>3</th>\n",
              "      <td>3</td>\n",
              "      <td>ALB</td>\n",
              "      <td>BWI</td>\n",
              "      <td>69.40</td>\n",
              "      <td>288.0</td>\n",
              "      <td>606.84</td>\n",
              "      <td>WN</td>\n",
              "      <td>96.97</td>\n",
              "      <td>68.86</td>\n",
              "      <td>WN</td>\n",
              "      <td>96.97</td>\n",
              "      <td>68.86</td>\n",
              "      <td>104.440197</td>\n",
              "    </tr>\n",
              "    <tr>\n",
              "      <th>4</th>\n",
              "      <td>4</td>\n",
              "      <td>ALB</td>\n",
              "      <td>ORD</td>\n",
              "      <td>158.13</td>\n",
              "      <td>723.0</td>\n",
              "      <td>313.04</td>\n",
              "      <td>UA</td>\n",
              "      <td>39.79</td>\n",
              "      <td>161.36</td>\n",
              "      <td>WN</td>\n",
              "      <td>15.34</td>\n",
              "      <td>145.42</td>\n",
              "      <td>152.309288</td>\n",
              "    </tr>\n",
              "  </tbody>\n",
              "</table>\n",
              "</div>"
            ],
            "text/plain": [
              "   Sl. No Source  ... LowestPrice  PredictedFare\n",
              "0       0     AK  ...      111.03     121.753611\n",
              "1       1    CAK  ...      118.94     172.505965\n",
              "2       2    ALB  ...      167.12     182.803605\n",
              "3       3    ALB  ...       68.86     104.440197\n",
              "4       4    ALB  ...      145.42     152.309288\n",
              "\n",
              "[5 rows x 13 columns]"
            ]
          },
          "metadata": {},
          "execution_count": 5
        }
      ]
    },
    {
      "cell_type": "code",
      "metadata": {
        "colab": {
          "base_uri": "https://localhost:8080/",
          "height": 204
        },
        "id": "J64Nuq08R1F1",
        "outputId": "e9889fd9-82a0-4a2d-eb86-d54fcc5b5eb0"
      },
      "source": [
        "flight.tail()     # printing last 5 rows"
      ],
      "execution_count": 6,
      "outputs": [
        {
          "output_type": "execute_result",
          "data": {
            "text/html": [
              "<div>\n",
              "<style scoped>\n",
              "    .dataframe tbody tr th:only-of-type {\n",
              "        vertical-align: middle;\n",
              "    }\n",
              "\n",
              "    .dataframe tbody tr th {\n",
              "        vertical-align: top;\n",
              "    }\n",
              "\n",
              "    .dataframe thead th {\n",
              "        text-align: right;\n",
              "    }\n",
              "</style>\n",
              "<table border=\"1\" class=\"dataframe\">\n",
              "  <thead>\n",
              "    <tr style=\"text-align: right;\">\n",
              "      <th></th>\n",
              "      <th>Sl. No</th>\n",
              "      <th>Source</th>\n",
              "      <th>Destination</th>\n",
              "      <th>AverageFare</th>\n",
              "      <th>Distance</th>\n",
              "      <th>AverageWeeklyPassenger</th>\n",
              "      <th>MarketLeadingAirline</th>\n",
              "      <th>MarketShareLeadingAirline</th>\n",
              "      <th>AverageFareLeadingAirline</th>\n",
              "      <th>LowPriceAirline</th>\n",
              "      <th>MarketShareLowestPrice</th>\n",
              "      <th>LowestPrice</th>\n",
              "      <th>PredictedFare</th>\n",
              "    </tr>\n",
              "  </thead>\n",
              "  <tbody>\n",
              "    <tr>\n",
              "      <th>995</th>\n",
              "      <td>995</td>\n",
              "      <td>SYR</td>\n",
              "      <td>TPA</td>\n",
              "      <td>136.16</td>\n",
              "      <td>1104.0</td>\n",
              "      <td>184.34</td>\n",
              "      <td>US</td>\n",
              "      <td>33.37</td>\n",
              "      <td>135.82</td>\n",
              "      <td>DL</td>\n",
              "      <td>28.65</td>\n",
              "      <td>118.51</td>\n",
              "      <td>160.039391</td>\n",
              "    </tr>\n",
              "    <tr>\n",
              "      <th>996</th>\n",
              "      <td>996</td>\n",
              "      <td>TLH</td>\n",
              "      <td>TPA</td>\n",
              "      <td>83.28</td>\n",
              "      <td>200.0</td>\n",
              "      <td>232.71</td>\n",
              "      <td>FL</td>\n",
              "      <td>99.57</td>\n",
              "      <td>82.55</td>\n",
              "      <td>FL</td>\n",
              "      <td>99.57</td>\n",
              "      <td>82.55</td>\n",
              "      <td>101.305510</td>\n",
              "    </tr>\n",
              "    <tr>\n",
              "      <th>997</th>\n",
              "      <td>997</td>\n",
              "      <td>TPA</td>\n",
              "      <td>IAD</td>\n",
              "      <td>159.97</td>\n",
              "      <td>814.0</td>\n",
              "      <td>843.80</td>\n",
              "      <td>US</td>\n",
              "      <td>46.19</td>\n",
              "      <td>159.65</td>\n",
              "      <td>DL</td>\n",
              "      <td>13.89</td>\n",
              "      <td>159.02</td>\n",
              "      <td>157.993237</td>\n",
              "    </tr>\n",
              "    <tr>\n",
              "      <th>998</th>\n",
              "      <td>998</td>\n",
              "      <td>TPA</td>\n",
              "      <td>PBI</td>\n",
              "      <td>73.57</td>\n",
              "      <td>174.0</td>\n",
              "      <td>214.45</td>\n",
              "      <td>WN</td>\n",
              "      <td>99.74</td>\n",
              "      <td>73.44</td>\n",
              "      <td>WN</td>\n",
              "      <td>99.74</td>\n",
              "      <td>73.44</td>\n",
              "      <td>100.117477</td>\n",
              "    </tr>\n",
              "    <tr>\n",
              "      <th>999</th>\n",
              "      <td>999</td>\n",
              "      <td>IAD</td>\n",
              "      <td>PBI</td>\n",
              "      <td>126.67</td>\n",
              "      <td>859.0</td>\n",
              "      <td>475.65</td>\n",
              "      <td>US</td>\n",
              "      <td>56.28</td>\n",
              "      <td>129.92</td>\n",
              "      <td>DL</td>\n",
              "      <td>38.57</td>\n",
              "      <td>121.94</td>\n",
              "      <td>150.741926</td>\n",
              "    </tr>\n",
              "  </tbody>\n",
              "</table>\n",
              "</div>"
            ],
            "text/plain": [
              "     Sl. No Source  ... LowestPrice  PredictedFare\n",
              "995     995    SYR  ...      118.51     160.039391\n",
              "996     996    TLH  ...       82.55     101.305510\n",
              "997     997    TPA  ...      159.02     157.993237\n",
              "998     998    TPA  ...       73.44     100.117477\n",
              "999     999    IAD  ...      121.94     150.741926\n",
              "\n",
              "[5 rows x 13 columns]"
            ]
          },
          "metadata": {},
          "execution_count": 6
        }
      ]
    },
    {
      "cell_type": "code",
      "metadata": {
        "colab": {
          "base_uri": "https://localhost:8080/",
          "height": 297
        },
        "id": "_Psa-9us5_MH",
        "outputId": "94d2353c-efae-4230-a9d0-89862b284e88"
      },
      "source": [
        "flight.describe()     #  It gives aggregates of each columns"
      ],
      "execution_count": 7,
      "outputs": [
        {
          "output_type": "execute_result",
          "data": {
            "text/html": [
              "<div>\n",
              "<style scoped>\n",
              "    .dataframe tbody tr th:only-of-type {\n",
              "        vertical-align: middle;\n",
              "    }\n",
              "\n",
              "    .dataframe tbody tr th {\n",
              "        vertical-align: top;\n",
              "    }\n",
              "\n",
              "    .dataframe thead th {\n",
              "        text-align: right;\n",
              "    }\n",
              "</style>\n",
              "<table border=\"1\" class=\"dataframe\">\n",
              "  <thead>\n",
              "    <tr style=\"text-align: right;\">\n",
              "      <th></th>\n",
              "      <th>Sl. No</th>\n",
              "      <th>AverageFare</th>\n",
              "      <th>Distance</th>\n",
              "      <th>AverageWeeklyPassenger</th>\n",
              "      <th>MarketShareLeadingAirline</th>\n",
              "      <th>AverageFareLeadingAirline</th>\n",
              "      <th>MarketShareLowestPrice</th>\n",
              "      <th>LowestPrice</th>\n",
              "      <th>PredictedFare</th>\n",
              "    </tr>\n",
              "  </thead>\n",
              "  <tbody>\n",
              "    <tr>\n",
              "      <th>count</th>\n",
              "      <td>1000.000000</td>\n",
              "      <td>997.000000</td>\n",
              "      <td>998.00000</td>\n",
              "      <td>997.000000</td>\n",
              "      <td>996.000000</td>\n",
              "      <td>999.000000</td>\n",
              "      <td>997.000000</td>\n",
              "      <td>998.000000</td>\n",
              "      <td>998.000000</td>\n",
              "    </tr>\n",
              "    <tr>\n",
              "      <th>mean</th>\n",
              "      <td>499.500000</td>\n",
              "      <td>163.458044</td>\n",
              "      <td>1057.39479</td>\n",
              "      <td>670.109699</td>\n",
              "      <td>60.128454</td>\n",
              "      <td>166.633774</td>\n",
              "      <td>34.564514</td>\n",
              "      <td>143.314038</td>\n",
              "      <td>163.437768</td>\n",
              "    </tr>\n",
              "    <tr>\n",
              "      <th>std</th>\n",
              "      <td>288.819436</td>\n",
              "      <td>55.381637</td>\n",
              "      <td>643.59183</td>\n",
              "      <td>765.344010</td>\n",
              "      <td>19.313468</td>\n",
              "      <td>62.690008</td>\n",
              "      <td>27.130460</td>\n",
              "      <td>47.196076</td>\n",
              "      <td>36.413815</td>\n",
              "    </tr>\n",
              "    <tr>\n",
              "      <th>min</th>\n",
              "      <td>0.000000</td>\n",
              "      <td>50.520000</td>\n",
              "      <td>108.00000</td>\n",
              "      <td>181.410000</td>\n",
              "      <td>17.680000</td>\n",
              "      <td>50.520000</td>\n",
              "      <td>1.060000</td>\n",
              "      <td>49.610000</td>\n",
              "      <td>93.440141</td>\n",
              "    </tr>\n",
              "    <tr>\n",
              "      <th>25%</th>\n",
              "      <td>249.750000</td>\n",
              "      <td>125.980000</td>\n",
              "      <td>554.00000</td>\n",
              "      <td>256.950000</td>\n",
              "      <td>46.510000</td>\n",
              "      <td>124.060000</td>\n",
              "      <td>13.180000</td>\n",
              "      <td>113.865000</td>\n",
              "      <td>135.605147</td>\n",
              "    </tr>\n",
              "    <tr>\n",
              "      <th>50%</th>\n",
              "      <td>499.500000</td>\n",
              "      <td>161.360000</td>\n",
              "      <td>919.00000</td>\n",
              "      <td>404.560000</td>\n",
              "      <td>59.240000</td>\n",
              "      <td>161.360000</td>\n",
              "      <td>26.120000</td>\n",
              "      <td>137.840000</td>\n",
              "      <td>161.499516</td>\n",
              "    </tr>\n",
              "    <tr>\n",
              "      <th>75%</th>\n",
              "      <td>749.250000</td>\n",
              "      <td>197.520000</td>\n",
              "      <td>1457.50000</td>\n",
              "      <td>768.800000</td>\n",
              "      <td>73.510000</td>\n",
              "      <td>203.105000</td>\n",
              "      <td>52.980000</td>\n",
              "      <td>168.550000</td>\n",
              "      <td>188.910633</td>\n",
              "    </tr>\n",
              "    <tr>\n",
              "      <th>max</th>\n",
              "      <td>999.000000</td>\n",
              "      <td>401.230000</td>\n",
              "      <td>2724.00000</td>\n",
              "      <td>8950.760000</td>\n",
              "      <td>100.000000</td>\n",
              "      <td>490.030000</td>\n",
              "      <td>100.000000</td>\n",
              "      <td>387.940000</td>\n",
              "      <td>255.065541</td>\n",
              "    </tr>\n",
              "  </tbody>\n",
              "</table>\n",
              "</div>"
            ],
            "text/plain": [
              "            Sl. No  AverageFare  ...  LowestPrice  PredictedFare\n",
              "count  1000.000000   997.000000  ...   998.000000     998.000000\n",
              "mean    499.500000   163.458044  ...   143.314038     163.437768\n",
              "std     288.819436    55.381637  ...    47.196076      36.413815\n",
              "min       0.000000    50.520000  ...    49.610000      93.440141\n",
              "25%     249.750000   125.980000  ...   113.865000     135.605147\n",
              "50%     499.500000   161.360000  ...   137.840000     161.499516\n",
              "75%     749.250000   197.520000  ...   168.550000     188.910633\n",
              "max     999.000000   401.230000  ...   387.940000     255.065541\n",
              "\n",
              "[8 rows x 9 columns]"
            ]
          },
          "metadata": {},
          "execution_count": 7
        }
      ]
    },
    {
      "cell_type": "code",
      "metadata": {
        "colab": {
          "base_uri": "https://localhost:8080/"
        },
        "id": "2r3asmob63lp",
        "outputId": "42a027b4-5fca-4ceb-804b-8428d76edeb4"
      },
      "source": [
        "flight.info()       # This gives concise summary about the data in each column"
      ],
      "execution_count": 8,
      "outputs": [
        {
          "output_type": "stream",
          "name": "stdout",
          "text": [
            "<class 'pandas.core.frame.DataFrame'>\n",
            "RangeIndex: 1000 entries, 0 to 999\n",
            "Data columns (total 13 columns):\n",
            " #   Column                     Non-Null Count  Dtype  \n",
            "---  ------                     --------------  -----  \n",
            " 0   Sl. No                     1000 non-null   int64  \n",
            " 1   Source                     1000 non-null   object \n",
            " 2   Destination                1000 non-null   object \n",
            " 3   AverageFare                997 non-null    float64\n",
            " 4   Distance                   998 non-null    float64\n",
            " 5   AverageWeeklyPassenger     997 non-null    float64\n",
            " 6   MarketLeadingAirline       999 non-null    object \n",
            " 7   MarketShareLeadingAirline  996 non-null    float64\n",
            " 8   AverageFareLeadingAirline  999 non-null    float64\n",
            " 9   LowPriceAirline            1000 non-null   object \n",
            " 10  MarketShareLowestPrice     997 non-null    float64\n",
            " 11  LowestPrice                998 non-null    float64\n",
            " 12  PredictedFare              998 non-null    float64\n",
            "dtypes: float64(8), int64(1), object(4)\n",
            "memory usage: 101.7+ KB\n"
          ]
        }
      ]
    },
    {
      "cell_type": "code",
      "metadata": {
        "colab": {
          "base_uri": "https://localhost:8080/"
        },
        "id": "U1GCvHsc7UI3",
        "outputId": "93543420-e85e-40f4-dea7-a34f082d211c"
      },
      "source": [
        "flight.shape          # no of rows and columns"
      ],
      "execution_count": 9,
      "outputs": [
        {
          "output_type": "execute_result",
          "data": {
            "text/plain": [
              "(1000, 13)"
            ]
          },
          "metadata": {},
          "execution_count": 9
        }
      ]
    },
    {
      "cell_type": "code",
      "metadata": {
        "colab": {
          "base_uri": "https://localhost:8080/"
        },
        "id": "A7yzhVS5UlTn",
        "outputId": "c0e4cad6-9f2f-4a9b-a53f-dc4bf94dddbe"
      },
      "source": [
        "count = 1\n",
        "for i in flight.columns:          # printing the columns \n",
        "  print(count, i)\n",
        "  count = count + 1"
      ],
      "execution_count": 10,
      "outputs": [
        {
          "output_type": "stream",
          "name": "stdout",
          "text": [
            "1 Sl. No\n",
            "2 Source\n",
            "3 Destination\n",
            "4 AverageFare\n",
            "5 Distance\n",
            "6 AverageWeeklyPassenger\n",
            "7 MarketLeadingAirline\n",
            "8 MarketShareLeadingAirline\n",
            "9 AverageFareLeadingAirline\n",
            "10 LowPriceAirline\n",
            "11 MarketShareLowestPrice\n",
            "12 LowestPrice\n",
            "13 PredictedFare\n"
          ]
        }
      ]
    },
    {
      "cell_type": "markdown",
      "metadata": {
        "id": "t--gq3NqR6sZ"
      },
      "source": [
        "# 3) Data Preprocessing"
      ]
    },
    {
      "cell_type": "code",
      "metadata": {
        "colab": {
          "base_uri": "https://localhost:8080/"
        },
        "id": "G41gfmvrR5Gq",
        "outputId": "164d5700-b5be-41a6-c8e0-6c100a8c132e"
      },
      "source": [
        "# checking for all null values\n",
        "\n",
        "flight.isnull().sum()"
      ],
      "execution_count": 11,
      "outputs": [
        {
          "output_type": "execute_result",
          "data": {
            "text/plain": [
              "Sl. No                       0\n",
              "Source                       0\n",
              "Destination                  0\n",
              "AverageFare                  3\n",
              "Distance                     2\n",
              "AverageWeeklyPassenger       3\n",
              "MarketLeadingAirline         1\n",
              "MarketShareLeadingAirline    4\n",
              "AverageFareLeadingAirline    1\n",
              "LowPriceAirline              0\n",
              "MarketShareLowestPrice       3\n",
              "LowestPrice                  2\n",
              "PredictedFare                2\n",
              "dtype: int64"
            ]
          },
          "metadata": {},
          "execution_count": 11
        }
      ]
    },
    {
      "cell_type": "code",
      "metadata": {
        "colab": {
          "base_uri": "https://localhost:8080/"
        },
        "id": "Yn7ZRWn9SJvP",
        "outputId": "9208d10f-679a-46e1-dc38-6bb9a1b56d46"
      },
      "source": [
        "flight.dropna(inplace=True)   # deleting or removing rows with null values\n",
        "flight.isnull().sum()         # again checking for null values"
      ],
      "execution_count": 12,
      "outputs": [
        {
          "output_type": "execute_result",
          "data": {
            "text/plain": [
              "Sl. No                       0\n",
              "Source                       0\n",
              "Destination                  0\n",
              "AverageFare                  0\n",
              "Distance                     0\n",
              "AverageWeeklyPassenger       0\n",
              "MarketLeadingAirline         0\n",
              "MarketShareLeadingAirline    0\n",
              "AverageFareLeadingAirline    0\n",
              "LowPriceAirline              0\n",
              "MarketShareLowestPrice       0\n",
              "LowestPrice                  0\n",
              "PredictedFare                0\n",
              "dtype: int64"
            ]
          },
          "metadata": {},
          "execution_count": 12
        }
      ]
    },
    {
      "cell_type": "code",
      "metadata": {
        "colab": {
          "base_uri": "https://localhost:8080/",
          "height": 204
        },
        "id": "mXNIxiNzU8o3",
        "outputId": "07d1913b-0cae-43b2-e844-35997019fdfe"
      },
      "source": [
        "# we can drop all columns except Distance and PredictedFare\n",
        "# inplace updates the data in real dataframe\n",
        "\n",
        "flight.drop(['Sl. No', 'Source', 'Destination', 'AverageFare', \n",
        "             'AverageWeeklyPassenger', 'MarketLeadingAirline',\n",
        "             'MarketShareLeadingAirline', 'AverageFareLeadingAirline',\n",
        "             'LowPriceAirline', 'MarketShareLowestPrice', 'LowestPrice',], \n",
        "            inplace = True, axis = 1)\n",
        "\n",
        "flight.head()"
      ],
      "execution_count": 13,
      "outputs": [
        {
          "output_type": "execute_result",
          "data": {
            "text/html": [
              "<div>\n",
              "<style scoped>\n",
              "    .dataframe tbody tr th:only-of-type {\n",
              "        vertical-align: middle;\n",
              "    }\n",
              "\n",
              "    .dataframe tbody tr th {\n",
              "        vertical-align: top;\n",
              "    }\n",
              "\n",
              "    .dataframe thead th {\n",
              "        text-align: right;\n",
              "    }\n",
              "</style>\n",
              "<table border=\"1\" class=\"dataframe\">\n",
              "  <thead>\n",
              "    <tr style=\"text-align: right;\">\n",
              "      <th></th>\n",
              "      <th>Distance</th>\n",
              "      <th>PredictedFare</th>\n",
              "    </tr>\n",
              "  </thead>\n",
              "  <tbody>\n",
              "    <tr>\n",
              "      <th>0</th>\n",
              "      <td>528.0</td>\n",
              "      <td>121.753611</td>\n",
              "    </tr>\n",
              "    <tr>\n",
              "      <th>1</th>\n",
              "      <td>860.0</td>\n",
              "      <td>172.505965</td>\n",
              "    </tr>\n",
              "    <tr>\n",
              "      <th>2</th>\n",
              "      <td>852.0</td>\n",
              "      <td>182.803605</td>\n",
              "    </tr>\n",
              "    <tr>\n",
              "      <th>3</th>\n",
              "      <td>288.0</td>\n",
              "      <td>104.440197</td>\n",
              "    </tr>\n",
              "    <tr>\n",
              "      <th>4</th>\n",
              "      <td>723.0</td>\n",
              "      <td>152.309288</td>\n",
              "    </tr>\n",
              "  </tbody>\n",
              "</table>\n",
              "</div>"
            ],
            "text/plain": [
              "   Distance  PredictedFare\n",
              "0     528.0     121.753611\n",
              "1     860.0     172.505965\n",
              "2     852.0     182.803605\n",
              "3     288.0     104.440197\n",
              "4     723.0     152.309288"
            ]
          },
          "metadata": {},
          "execution_count": 13
        }
      ]
    },
    {
      "cell_type": "markdown",
      "metadata": {
        "id": "zzHAJksrSbU_"
      },
      "source": [
        "# 4) Create feature set X and Outcome set Y. To estimate Beta 0, a constant term of 1 needs to be added as a seperate column. This parameter is the intercept term."
      ]
    },
    {
      "cell_type": "code",
      "metadata": {
        "id": "tv839Qih77pp"
      },
      "source": [
        "import statsmodels.api as sm\n",
        "X = sm.add_constant(flight['Distance'])\n",
        "Y = flight['PredictedFare']"
      ],
      "execution_count": 14,
      "outputs": []
    },
    {
      "cell_type": "code",
      "metadata": {
        "colab": {
          "base_uri": "https://localhost:8080/",
          "height": 204
        },
        "id": "YZkwxt_SJ6iI",
        "outputId": "ad018ee6-4ba3-4a41-dab8-1f1bbbedf4b7"
      },
      "source": [
        "X.head()    # independent variables"
      ],
      "execution_count": 15,
      "outputs": [
        {
          "output_type": "execute_result",
          "data": {
            "text/html": [
              "<div>\n",
              "<style scoped>\n",
              "    .dataframe tbody tr th:only-of-type {\n",
              "        vertical-align: middle;\n",
              "    }\n",
              "\n",
              "    .dataframe tbody tr th {\n",
              "        vertical-align: top;\n",
              "    }\n",
              "\n",
              "    .dataframe thead th {\n",
              "        text-align: right;\n",
              "    }\n",
              "</style>\n",
              "<table border=\"1\" class=\"dataframe\">\n",
              "  <thead>\n",
              "    <tr style=\"text-align: right;\">\n",
              "      <th></th>\n",
              "      <th>const</th>\n",
              "      <th>Distance</th>\n",
              "    </tr>\n",
              "  </thead>\n",
              "  <tbody>\n",
              "    <tr>\n",
              "      <th>0</th>\n",
              "      <td>1.0</td>\n",
              "      <td>528.0</td>\n",
              "    </tr>\n",
              "    <tr>\n",
              "      <th>1</th>\n",
              "      <td>1.0</td>\n",
              "      <td>860.0</td>\n",
              "    </tr>\n",
              "    <tr>\n",
              "      <th>2</th>\n",
              "      <td>1.0</td>\n",
              "      <td>852.0</td>\n",
              "    </tr>\n",
              "    <tr>\n",
              "      <th>3</th>\n",
              "      <td>1.0</td>\n",
              "      <td>288.0</td>\n",
              "    </tr>\n",
              "    <tr>\n",
              "      <th>4</th>\n",
              "      <td>1.0</td>\n",
              "      <td>723.0</td>\n",
              "    </tr>\n",
              "  </tbody>\n",
              "</table>\n",
              "</div>"
            ],
            "text/plain": [
              "   const  Distance\n",
              "0    1.0     528.0\n",
              "1    1.0     860.0\n",
              "2    1.0     852.0\n",
              "3    1.0     288.0\n",
              "4    1.0     723.0"
            ]
          },
          "metadata": {},
          "execution_count": 15
        }
      ]
    },
    {
      "cell_type": "code",
      "metadata": {
        "colab": {
          "base_uri": "https://localhost:8080/"
        },
        "id": "fvUW3aGiXCeG",
        "outputId": "e7934361-82db-46b7-8cde-dd7dc1cdd8c7"
      },
      "source": [
        "Y.head()      # dependent variables"
      ],
      "execution_count": 16,
      "outputs": [
        {
          "output_type": "execute_result",
          "data": {
            "text/plain": [
              "0    121.753611\n",
              "1    172.505965\n",
              "2    182.803605\n",
              "3    104.440197\n",
              "4    152.309288\n",
              "Name: PredictedFare, dtype: float64"
            ]
          },
          "metadata": {},
          "execution_count": 16
        }
      ]
    },
    {
      "cell_type": "markdown",
      "metadata": {
        "id": "ubWUKEt_ihED"
      },
      "source": [
        "# 5) Splitting dataset into training and validation sets. Using 70% for training and 30% for Validating"
      ]
    },
    {
      "cell_type": "code",
      "metadata": {
        "id": "FRKqdWRJXERG"
      },
      "source": [
        "from sklearn.model_selection import train_test_split\n",
        "# train data is 70% and test data is 30%\n",
        "train_x, test_x, train_y, test_y = train_test_split(X,Y, train_size = 0.7, random_state = 100)"
      ],
      "execution_count": 17,
      "outputs": []
    },
    {
      "cell_type": "code",
      "metadata": {
        "colab": {
          "base_uri": "https://localhost:8080/"
        },
        "id": "_KVGxRmPftGe",
        "outputId": "b064ba4c-ec1e-4062-edef-ea916252caa3"
      },
      "source": [
        "# at begining there were 1000 records\n",
        "# after datapreprocessing (removing null values) there are 982 records\n",
        "flight.shape "
      ],
      "execution_count": 18,
      "outputs": [
        {
          "output_type": "execute_result",
          "data": {
            "text/plain": [
              "(982, 2)"
            ]
          },
          "metadata": {},
          "execution_count": 18
        }
      ]
    },
    {
      "cell_type": "code",
      "metadata": {
        "colab": {
          "base_uri": "https://localhost:8080/",
          "height": 204
        },
        "id": "1zcnPRBxcNVA",
        "outputId": "44e2da95-974f-44da-c4e0-61219ba0e2f4"
      },
      "source": [
        "train_x.head()      # preview of train data of variable x"
      ],
      "execution_count": 19,
      "outputs": [
        {
          "output_type": "execute_result",
          "data": {
            "text/html": [
              "<div>\n",
              "<style scoped>\n",
              "    .dataframe tbody tr th:only-of-type {\n",
              "        vertical-align: middle;\n",
              "    }\n",
              "\n",
              "    .dataframe tbody tr th {\n",
              "        vertical-align: top;\n",
              "    }\n",
              "\n",
              "    .dataframe thead th {\n",
              "        text-align: right;\n",
              "    }\n",
              "</style>\n",
              "<table border=\"1\" class=\"dataframe\">\n",
              "  <thead>\n",
              "    <tr style=\"text-align: right;\">\n",
              "      <th></th>\n",
              "      <th>const</th>\n",
              "      <th>Distance</th>\n",
              "    </tr>\n",
              "  </thead>\n",
              "  <tbody>\n",
              "    <tr>\n",
              "      <th>556</th>\n",
              "      <td>1.0</td>\n",
              "      <td>534.0</td>\n",
              "    </tr>\n",
              "    <tr>\n",
              "      <th>114</th>\n",
              "      <td>1.0</td>\n",
              "      <td>717.0</td>\n",
              "    </tr>\n",
              "    <tr>\n",
              "      <th>325</th>\n",
              "      <td>1.0</td>\n",
              "      <td>879.0</td>\n",
              "    </tr>\n",
              "    <tr>\n",
              "      <th>108</th>\n",
              "      <td>1.0</td>\n",
              "      <td>753.0</td>\n",
              "    </tr>\n",
              "    <tr>\n",
              "      <th>550</th>\n",
              "      <td>1.0</td>\n",
              "      <td>892.0</td>\n",
              "    </tr>\n",
              "  </tbody>\n",
              "</table>\n",
              "</div>"
            ],
            "text/plain": [
              "     const  Distance\n",
              "556    1.0     534.0\n",
              "114    1.0     717.0\n",
              "325    1.0     879.0\n",
              "108    1.0     753.0\n",
              "550    1.0     892.0"
            ]
          },
          "metadata": {},
          "execution_count": 19
        }
      ]
    },
    {
      "cell_type": "code",
      "metadata": {
        "colab": {
          "base_uri": "https://localhost:8080/"
        },
        "id": "fHpO3bzocPy6",
        "outputId": "07465224-3de3-4bca-df96-bb10dc899260"
      },
      "source": [
        "train_y.head()    # preview of train data of variable y"
      ],
      "execution_count": 20,
      "outputs": [
        {
          "output_type": "execute_result",
          "data": {
            "text/plain": [
              "556    121.737662\n",
              "114    130.943344\n",
              "325    191.103186\n",
              "108    180.331917\n",
              "550    167.328036\n",
              "Name: PredictedFare, dtype: float64"
            ]
          },
          "metadata": {},
          "execution_count": 20
        }
      ]
    },
    {
      "cell_type": "code",
      "metadata": {
        "colab": {
          "base_uri": "https://localhost:8080/"
        },
        "id": "adaYWTz-gbS2",
        "outputId": "0abc1a50-f04b-4504-b316-185f2030c780"
      },
      "source": [
        "train_x.shape     # 687 records of 982 records are selected for train data (70%)"
      ],
      "execution_count": 21,
      "outputs": [
        {
          "output_type": "execute_result",
          "data": {
            "text/plain": [
              "(687, 2)"
            ]
          },
          "metadata": {},
          "execution_count": 21
        }
      ]
    },
    {
      "cell_type": "code",
      "metadata": {
        "colab": {
          "base_uri": "https://localhost:8080/",
          "height": 204
        },
        "id": "9jHdw6L0cTM0",
        "outputId": "28b07a65-df3d-4bad-d19f-a13058750313"
      },
      "source": [
        "test_x.head()     # preview of test data of variable x"
      ],
      "execution_count": 22,
      "outputs": [
        {
          "output_type": "execute_result",
          "data": {
            "text/html": [
              "<div>\n",
              "<style scoped>\n",
              "    .dataframe tbody tr th:only-of-type {\n",
              "        vertical-align: middle;\n",
              "    }\n",
              "\n",
              "    .dataframe tbody tr th {\n",
              "        vertical-align: top;\n",
              "    }\n",
              "\n",
              "    .dataframe thead th {\n",
              "        text-align: right;\n",
              "    }\n",
              "</style>\n",
              "<table border=\"1\" class=\"dataframe\">\n",
              "  <thead>\n",
              "    <tr style=\"text-align: right;\">\n",
              "      <th></th>\n",
              "      <th>const</th>\n",
              "      <th>Distance</th>\n",
              "    </tr>\n",
              "  </thead>\n",
              "  <tbody>\n",
              "    <tr>\n",
              "      <th>920</th>\n",
              "      <td>1.0</td>\n",
              "      <td>1788.0</td>\n",
              "    </tr>\n",
              "    <tr>\n",
              "      <th>716</th>\n",
              "      <td>1.0</td>\n",
              "      <td>337.0</td>\n",
              "    </tr>\n",
              "    <tr>\n",
              "      <th>505</th>\n",
              "      <td>1.0</td>\n",
              "      <td>1087.0</td>\n",
              "    </tr>\n",
              "    <tr>\n",
              "      <th>802</th>\n",
              "      <td>1.0</td>\n",
              "      <td>1977.0</td>\n",
              "    </tr>\n",
              "    <tr>\n",
              "      <th>925</th>\n",
              "      <td>1.0</td>\n",
              "      <td>952.0</td>\n",
              "    </tr>\n",
              "  </tbody>\n",
              "</table>\n",
              "</div>"
            ],
            "text/plain": [
              "     const  Distance\n",
              "920    1.0    1788.0\n",
              "716    1.0     337.0\n",
              "505    1.0    1087.0\n",
              "802    1.0    1977.0\n",
              "925    1.0     952.0"
            ]
          },
          "metadata": {},
          "execution_count": 22
        }
      ]
    },
    {
      "cell_type": "code",
      "metadata": {
        "colab": {
          "base_uri": "https://localhost:8080/"
        },
        "id": "qeyqZCSycZXY",
        "outputId": "8816e43c-48be-4750-9680-135155eea393"
      },
      "source": [
        "test_y.head()     # preview of test data of variable y"
      ],
      "execution_count": 23,
      "outputs": [
        {
          "output_type": "execute_result",
          "data": {
            "text/plain": [
              "920    201.384721\n",
              "716     96.226281\n",
              "505    174.356304\n",
              "802    211.354863\n",
              "925    142.260900\n",
              "Name: PredictedFare, dtype: float64"
            ]
          },
          "metadata": {},
          "execution_count": 23
        }
      ]
    },
    {
      "cell_type": "code",
      "metadata": {
        "colab": {
          "base_uri": "https://localhost:8080/"
        },
        "id": "p8_YtaSog68C",
        "outputId": "57cc2121-bf77-446a-bedf-5c91d31d4684"
      },
      "source": [
        "test_x.shape     # 295 records of 982 records are selected for test data (30%)"
      ],
      "execution_count": 24,
      "outputs": [
        {
          "output_type": "execute_result",
          "data": {
            "text/plain": [
              "(295, 2)"
            ]
          },
          "metadata": {},
          "execution_count": 24
        }
      ]
    },
    {
      "cell_type": "markdown",
      "metadata": {
        "id": "xu7PbNZaiyYm"
      },
      "source": [
        "# 6) Fitting the data and printing slope and intercept"
      ]
    },
    {
      "cell_type": "code",
      "metadata": {
        "id": "cZhoKNrgcylV"
      },
      "source": [
        "# The fit() method on OLS, estimates the parameters and returns the model information \n",
        "# such as model parameters(coefficients), acccuracy measures and residual values to the varibale df_lm\n",
        "\n",
        "flight_lm = sm.OLS(train_y, train_x).fit()"
      ],
      "execution_count": 25,
      "outputs": []
    },
    {
      "cell_type": "code",
      "metadata": {
        "colab": {
          "base_uri": "https://localhost:8080/"
        },
        "id": "gNU__o7QjgVj",
        "outputId": "efa899cc-035f-4eef-c78f-bfd74d69e7cb"
      },
      "source": [
        "flight_lm.params   # it gives B0 = Intercept and B1 = slope"
      ],
      "execution_count": 26,
      "outputs": [
        {
          "output_type": "execute_result",
          "data": {
            "text/plain": [
              "const       110.470718\n",
              "Distance      0.050510\n",
              "dtype: float64"
            ]
          },
          "metadata": {},
          "execution_count": 26
        }
      ]
    },
    {
      "cell_type": "code",
      "metadata": {
        "colab": {
          "base_uri": "https://localhost:8080/"
        },
        "id": "sRWjSqIjj5Im",
        "outputId": "52eda1a5-876c-4710-8d36-a74c1a32dd3f"
      },
      "source": [
        "b = flight_lm.params[0]\n",
        "m = flight_lm.params[1]\n",
        "\n",
        "print(\"Intercept (B0) is \", b)\n",
        "print(\"Slope (B1) is \", m)\n",
        "print(\"\\nEquation is {0} + ( {1} * ['Distance'])\".format(b,m))"
      ],
      "execution_count": 27,
      "outputs": [
        {
          "output_type": "stream",
          "name": "stdout",
          "text": [
            "Intercept (B0) is  110.47071833931442\n",
            "Slope (B1) is  0.0505104958956367\n",
            "\n",
            "Equation is 110.47071833931442 + ( 0.0505104958956367 * ['Distance'])\n"
          ]
        }
      ]
    },
    {
      "cell_type": "code",
      "metadata": {
        "colab": {
          "base_uri": "https://localhost:8080/",
          "height": 317
        },
        "id": "fpoadi7Fk1d0",
        "outputId": "af11656f-85d3-4be0-bc08-f4ad4de68303"
      },
      "source": [
        "flight_lm.summary2()"
      ],
      "execution_count": 28,
      "outputs": [
        {
          "output_type": "execute_result",
          "data": {
            "text/html": [
              "<table class=\"simpletable\">\n",
              "<tr>\n",
              "        <td>Model:</td>               <td>OLS</td>         <td>Adj. R-squared:</td>     <td>0.790</td>  \n",
              "</tr>\n",
              "<tr>\n",
              "  <td>Dependent Variable:</td>   <td>PredictedFare</td>         <td>AIC:</td>         <td>5806.0600</td>\n",
              "</tr>\n",
              "<tr>\n",
              "         <td>Date:</td>        <td>2021-10-31 09:05</td>        <td>BIC:</td>         <td>5815.1247</td>\n",
              "</tr>\n",
              "<tr>\n",
              "   <td>No. Observations:</td>         <td>687</td>         <td>Log-Likelihood:</td>    <td>-2901.0</td> \n",
              "</tr>\n",
              "<tr>\n",
              "       <td>Df Model:</td>              <td>1</td>           <td>F-statistic:</td>       <td>2586.</td>  \n",
              "</tr>\n",
              "<tr>\n",
              "     <td>Df Residuals:</td>           <td>685</td>       <td>Prob (F-statistic):</td> <td>9.72e-235</td>\n",
              "</tr>\n",
              "<tr>\n",
              "      <td>R-squared:</td>            <td>0.791</td>            <td>Scale:</td>         <td>273.29</td>  \n",
              "</tr>\n",
              "</table>\n",
              "<table class=\"simpletable\">\n",
              "<tr>\n",
              "      <td></td>       <th>Coef.</th>  <th>Std.Err.</th>    <th>t</th>     <th>P>|t|</th>  <th>[0.025</th>   <th>0.975]</th> \n",
              "</tr>\n",
              "<tr>\n",
              "  <th>const</th>    <td>110.4707</td>  <td>1.2139</td>  <td>91.0085</td> <td>0.0000</td> <td>108.0874</td> <td>112.8540</td>\n",
              "</tr>\n",
              "<tr>\n",
              "  <th>Distance</th>  <td>0.0505</td>   <td>0.0010</td>  <td>50.8513</td> <td>0.0000</td>  <td>0.0486</td>   <td>0.0525</td> \n",
              "</tr>\n",
              "</table>\n",
              "<table class=\"simpletable\">\n",
              "<tr>\n",
              "     <td>Omnibus:</td>    <td>65.148</td>  <td>Durbin-Watson:</td>    <td>1.944</td>\n",
              "</tr>\n",
              "<tr>\n",
              "  <td>Prob(Omnibus):</td>  <td>0.000</td> <td>Jarque-Bera (JB):</td> <td>45.388</td>\n",
              "</tr>\n",
              "<tr>\n",
              "       <td>Skew:</td>      <td>0.517</td>     <td>Prob(JB):</td>      <td>0.000</td>\n",
              "</tr>\n",
              "<tr>\n",
              "     <td>Kurtosis:</td>    <td>2.281</td>  <td>Condition No.:</td>    <td>2352</td> \n",
              "</tr>\n",
              "</table>"
            ],
            "text/plain": [
              "<class 'statsmodels.iolib.summary2.Summary'>\n",
              "\"\"\"\n",
              "                 Results: Ordinary least squares\n",
              "==================================================================\n",
              "Model:              OLS              Adj. R-squared:     0.790    \n",
              "Dependent Variable: PredictedFare    AIC:                5806.0600\n",
              "Date:               2021-10-31 09:05 BIC:                5815.1247\n",
              "No. Observations:   687              Log-Likelihood:     -2901.0  \n",
              "Df Model:           1                F-statistic:        2586.    \n",
              "Df Residuals:       685              Prob (F-statistic): 9.72e-235\n",
              "R-squared:          0.791            Scale:              273.29   \n",
              "-------------------------------------------------------------------\n",
              "             Coef.    Std.Err.     t     P>|t|    [0.025    0.975] \n",
              "-------------------------------------------------------------------\n",
              "const       110.4707    1.2139  91.0085  0.0000  108.0874  112.8540\n",
              "Distance      0.0505    0.0010  50.8513  0.0000    0.0486    0.0525\n",
              "------------------------------------------------------------------\n",
              "Omnibus:               65.148       Durbin-Watson:          1.944 \n",
              "Prob(Omnibus):         0.000        Jarque-Bera (JB):       45.388\n",
              "Skew:                  0.517        Prob(JB):               0.000 \n",
              "Kurtosis:              2.281        Condition No.:          2352  \n",
              "==================================================================\n",
              "* The condition number is large (2e+03). This might indicate\n",
              "strong multicollinearity or other numerical problems.\n",
              "\"\"\""
            ]
          },
          "metadata": {},
          "execution_count": 28
        }
      ]
    },
    {
      "cell_type": "markdown",
      "metadata": {
        "id": "6W0dRhVmlorP"
      },
      "source": [
        "> R-Squared of the model is 0.791. \n",
        "\n",
        "> So the model explains 79.1% of the variation in PredictedFare."
      ]
    },
    {
      "cell_type": "markdown",
      "metadata": {
        "id": "s_YPI_cOmCwU"
      },
      "source": [
        "# 7) Linear Regression using matplotlib and seaborn"
      ]
    },
    {
      "cell_type": "code",
      "metadata": {
        "colab": {
          "base_uri": "https://localhost:8080/",
          "height": 567
        },
        "id": "KVDLtcC1mBt2",
        "outputId": "ee280bdb-52fd-4717-d4dc-c0837abae1b4"
      },
      "source": [
        "import matplotlib.pyplot as plt\n",
        "%matplotlib inline\n",
        "from matplotlib import figure\n",
        "import seaborn as sns\n",
        "\n",
        "sns.set_theme()\n",
        "\n",
        "plt.figure(figsize= [8,8])\n",
        "plt.scatter(flight['Distance'],flight['PredictedFare'], alpha = 0.5) \n",
        "plt.xlabel('Distance', fontsize=20)\n",
        "plt.ylabel('Predicted Fare', fontsize=20)\n",
        "plt.title('Distance vs Predicted Fare', fontsize=24)\n",
        "\n",
        "plt.plot(flight['Distance'], m * flight['Distance'] + b, color = 'orange')\n",
        "sns.despine()\n",
        "# plt.savefig(\"lm_1.png\")\n",
        "plt.show()\n",
        "\n",
        "print(\"\\nEquation (y = b + m*x )is {0} + ( {1} * ['Distance'])\".format(b,m))"
      ],
      "execution_count": 29,
      "outputs": [
        {
          "output_type": "display_data",
          "data": {
            "image/png": "[encoded data removed]",
            "text/plain": [
              "<Figure size 576x576 with 1 Axes>"
            ]
          },
          "metadata": {}
        },
        {
          "output_type": "stream",
          "name": "stdout",
          "text": [
            "\n",
            "Equation (y = b + m*x )is 110.47071833931442 + ( 0.0505104958956367 * ['Distance'])\n"
          ]
        }
      ]
    },
    {
      "cell_type": "markdown",
      "metadata": {
        "id": "6spKvi9SsZ8x"
      },
      "source": [
        "# 8) **Residual Analysis** - \n",
        "\n",
        "> variance of the residual has to be constant across different values of the predicted value ('Y') - a property known as homoscedasticity. \n",
        "\n",
        ">A non-constant variance of the residuals known as heteroscedasticity is not desired.\n"
      ]
    },
    {
      "cell_type": "code",
      "metadata": {
        "colab": {
          "base_uri": "https://localhost:8080/"
        },
        "id": "u_W7gHrws2ut",
        "outputId": "892478c7-8d66-4a56-f659-2ead62eafd55"
      },
      "source": [
        "flight_lm.fittedvalues.head()"
      ],
      "execution_count": 30,
      "outputs": [
        {
          "output_type": "execute_result",
          "data": {
            "text/plain": [
              "556    137.443323\n",
              "114    146.686744\n",
              "325    154.869444\n",
              "108    148.505122\n",
              "550    155.526081\n",
              "dtype: float64"
            ]
          },
          "metadata": {},
          "execution_count": 30
        }
      ]
    },
    {
      "cell_type": "code",
      "metadata": {
        "colab": {
          "base_uri": "https://localhost:8080/"
        },
        "id": "wPfgFKQVs-mT",
        "outputId": "f4cad2ba-7291-4f05-9cf7-2bf0a0ec3b9b"
      },
      "source": [
        "flight_lm.resid.head()"
      ],
      "execution_count": 31,
      "outputs": [
        {
          "output_type": "execute_result",
          "data": {
            "text/plain": [
              "556   -15.705661\n",
              "114   -15.743400\n",
              "325    36.233742\n",
              "108    31.826795\n",
              "550    11.801955\n",
              "dtype: float64"
            ]
          },
          "metadata": {},
          "execution_count": 31
        }
      ]
    },
    {
      "cell_type": "code",
      "metadata": {
        "colab": {
          "base_uri": "https://localhost:8080/",
          "height": 355
        },
        "id": "g9lm1sklsp8I",
        "outputId": "87d510c4-7916-4048-ad9b-1182eb94ad3f"
      },
      "source": [
        "# To standardize, subtract from mean and divide by standard deviation\n",
        "\n",
        "def get_std_values(vals):\n",
        "  return (vals - vals.mean())/vals.std()         # z score (Standardization)\n",
        "\n",
        "x_axis = get_std_values(flight_lm.fittedvalues)\n",
        "y_axis = get_std_values(flight_lm.resid)\n",
        "\n",
        "plt.figure(figsize=[7,5])\n",
        "plt.scatter(x_axis, y_axis)\n",
        "plt.xlabel(\"Standardized Predicted Values\")\n",
        "plt.ylabel(\"Standardized Residual Values\")\n",
        "plt.title(\"Residual Plot\")\n",
        "plt.savefig('Residual plot.png')\n",
        "plt.show()\n",
        "\n",
        "# It is homoscedastic because residual plot between standardised residual values and standardised predicted values is not funnel shaped. \n",
        "# variance is constant"
      ],
      "execution_count": 32,
      "outputs": [
        {
          "output_type": "display_data",
          "data": {
            "image/png": "[encoded data removed]",
            "text/plain": [
              "<Figure size 504x360 with 1 Axes>"
            ]
          },
          "metadata": {}
        }
      ]
    },
    {
      "cell_type": "markdown",
      "metadata": {
        "id": "6bffsbiYq6x9"
      },
      "source": [
        "# 9) Model Diagnostics - Oulier Detection\n",
        "\n",
        "> Outliers are observations whose values show a large deviation from the mean value. Their presence can have a significant influence on the values of the regression coefficients. Hence we use Z-Score to identify their existence in the data. \n",
        "\n",
        "> Any obervation with an Z-Score of more than 3.0 is an outlier."
      ]
    },
    {
      "cell_type": "code",
      "metadata": {
        "colab": {
          "base_uri": "https://localhost:8080/",
          "height": 204
        },
        "id": "vGDOdvh1ptsy",
        "outputId": "5ae26dc5-691f-4489-f923-2425817d29e6"
      },
      "source": [
        "from scipy.stats import zscore\n",
        "flight['zscore_Distance'] = zscore(flight['Distance'])\n",
        "flight.head()"
      ],
      "execution_count": 33,
      "outputs": [
        {
          "output_type": "execute_result",
          "data": {
            "text/html": [
              "<div>\n",
              "<style scoped>\n",
              "    .dataframe tbody tr th:only-of-type {\n",
              "        vertical-align: middle;\n",
              "    }\n",
              "\n",
              "    .dataframe tbody tr th {\n",
              "        vertical-align: top;\n",
              "    }\n",
              "\n",
              "    .dataframe thead th {\n",
              "        text-align: right;\n",
              "    }\n",
              "</style>\n",
              "<table border=\"1\" class=\"dataframe\">\n",
              "  <thead>\n",
              "    <tr style=\"text-align: right;\">\n",
              "      <th></th>\n",
              "      <th>Distance</th>\n",
              "      <th>PredictedFare</th>\n",
              "      <th>zscore_Distance</th>\n",
              "    </tr>\n",
              "  </thead>\n",
              "  <tbody>\n",
              "    <tr>\n",
              "      <th>0</th>\n",
              "      <td>528.0</td>\n",
              "      <td>121.753611</td>\n",
              "      <td>-0.827840</td>\n",
              "    </tr>\n",
              "    <tr>\n",
              "      <th>1</th>\n",
              "      <td>860.0</td>\n",
              "      <td>172.505965</td>\n",
              "      <td>-0.311552</td>\n",
              "    </tr>\n",
              "    <tr>\n",
              "      <th>2</th>\n",
              "      <td>852.0</td>\n",
              "      <td>182.803605</td>\n",
              "      <td>-0.323993</td>\n",
              "    </tr>\n",
              "    <tr>\n",
              "      <th>3</th>\n",
              "      <td>288.0</td>\n",
              "      <td>104.440197</td>\n",
              "      <td>-1.201060</td>\n",
              "    </tr>\n",
              "    <tr>\n",
              "      <th>4</th>\n",
              "      <td>723.0</td>\n",
              "      <td>152.309288</td>\n",
              "      <td>-0.524599</td>\n",
              "    </tr>\n",
              "  </tbody>\n",
              "</table>\n",
              "</div>"
            ],
            "text/plain": [
              "   Distance  PredictedFare  zscore_Distance\n",
              "0     528.0     121.753611        -0.827840\n",
              "1     860.0     172.505965        -0.311552\n",
              "2     852.0     182.803605        -0.323993\n",
              "3     288.0     104.440197        -1.201060\n",
              "4     723.0     152.309288        -0.524599"
            ]
          },
          "metadata": {},
          "execution_count": 33
        }
      ]
    },
    {
      "cell_type": "code",
      "metadata": {
        "colab": {
          "base_uri": "https://localhost:8080/"
        },
        "id": "Q9ueow-gwJQo",
        "outputId": "860f9889-0791-45b2-b502-a6c537d68b2d"
      },
      "source": [
        "flight[(flight['zscore_Distance'] > 3.0 )| (flight['zscore_Distance'] < -3.0)].count()      # checking for Outliers\n",
        "# there are no Outliers"
      ],
      "execution_count": 34,
      "outputs": [
        {
          "output_type": "execute_result",
          "data": {
            "text/plain": [
              "Distance           0\n",
              "PredictedFare      0\n",
              "zscore_Distance    0\n",
              "dtype: int64"
            ]
          },
          "metadata": {},
          "execution_count": 34
        }
      ]
    },
    {
      "cell_type": "markdown",
      "metadata": {
        "id": "6x5HnipUwzXw"
      },
      "source": [
        "# 10) Cook's Distance"
      ]
    },
    {
      "cell_type": "code",
      "metadata": {
        "colab": {
          "base_uri": "https://localhost:8080/",
          "height": 665
        },
        "id": "9L64yoVqwR1T",
        "outputId": "3139a693-017a-43fc-92f4-72e5d88ececb"
      },
      "source": [
        "import numpy as np\n",
        "flight_influence = flight_lm.get_influence()\n",
        "(c,p) = flight_influence.cooks_distance\n",
        "\n",
        "plt.figure(figsize = [15,10])\n",
        "plt.stem(np.arange(len(train_x)), np.round(c,3))\n",
        "plt.xlabel(\"Row Index\")\n",
        "plt.ylabel(\"Cooks Distance\")\n",
        "plt.show()"
      ],
      "execution_count": 35,
      "outputs": [
        {
          "output_type": "stream",
          "name": "stderr",
          "text": [
            "/usr/local/lib/python3.7/dist-packages/ipykernel_launcher.py:6: UserWarning: In Matplotlib 3.3 individual lines on a stem plot will be added as a LineCollection instead of individual lines. This significantly improves the performance of a stem plot. To remove this warning and switch to the new behaviour, set the \"use_line_collection\" keyword argument to True.\n",
            "  \n"
          ]
        },
        {
          "output_type": "display_data",
          "data": {
            "image/png": "[encoded data removed]",
            "text/plain": [
              "<Figure size 1080x720 with 1 Axes>"
            ]
          },
          "metadata": {}
        }
      ]
    },
    {
      "cell_type": "markdown",
      "metadata": {
        "id": "APJdyn9wxoIp"
      },
      "source": [
        "There is no observation with Cooks's distance > 1. Hence none of them are influential."
      ]
    },
    {
      "cell_type": "markdown",
      "metadata": {
        "id": "Ez8kkZp2xsNn"
      },
      "source": [
        "# 11) Making predictions on validation set and measuring accuracy - R-Squared and RMSE "
      ]
    },
    {
      "cell_type": "code",
      "metadata": {
        "colab": {
          "base_uri": "https://localhost:8080/"
        },
        "id": "uxDoUGNsw-6Y",
        "outputId": "333c8898-cbe0-4182-af59-31e437dcd93d"
      },
      "source": [
        "from sklearn.metrics import r2_score, mean_squared_error\n",
        "pred_y = flight_lm.predict(test_x)\n",
        "\n",
        "R2 = np.abs(r2_score(test_y, pred_y))\n",
        "\n",
        "print('R-squared value = ', R2)\n",
        "print('Accuracy is ',np.round(R2 * 100, 2),'%')\n",
        "print('RMSE value = ',np.round(np.sqrt(mean_squared_error(test_y, pred_y)),2))"
      ],
      "execution_count": 36,
      "outputs": [
        {
          "output_type": "stream",
          "name": "stdout",
          "text": [
            "R-squared value =  0.8046273341987196\n",
            "Accuracy is  80.46 %\n",
            "RMSE value =  16.34\n"
          ]
        }
      ]
    },
    {
      "cell_type": "code",
      "metadata": {
        "id": "o7SlcvLbmiFv"
      },
      "source": [
        ""
      ],
      "execution_count": null,
      "outputs": []
    }
  ]
}